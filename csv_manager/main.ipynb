{
 "cells": [
  {
   "cell_type": "code",
   "execution_count": 154,
   "id": "initial_id",
   "metadata": {
    "collapsed": true,
    "ExecuteTime": {
     "end_time": "2024-08-15T11:35:18.949751Z",
     "start_time": "2024-08-15T11:35:18.911343Z"
    }
   },
   "outputs": [],
   "source": [
    "import pandas as pd\n",
    "df = pd.read_csv('../csvs/parser_output.csv')\n"
   ]
  },
  {
   "cell_type": "code",
   "execution_count": 155,
   "outputs": [],
   "source": [
    "df.fillna('', inplace=True)"
   ],
   "metadata": {
    "collapsed": false,
    "ExecuteTime": {
     "end_time": "2024-08-15T11:35:19.392251Z",
     "start_time": "2024-08-15T11:35:19.387554Z"
    }
   },
   "id": "6179fa86d76755d0"
  },
  {
   "cell_type": "code",
   "execution_count": 156,
   "outputs": [
    {
     "data": {
      "text/plain": "'17.08'"
     },
     "execution_count": 156,
     "metadata": {},
     "output_type": "execute_result"
    }
   ],
   "source": [
    "date = df[\"Служба поддержки\"][0]\n",
    "date"
   ],
   "metadata": {
    "collapsed": false,
    "ExecuteTime": {
     "end_time": "2024-08-15T11:35:19.746514Z",
     "start_time": "2024-08-15T11:35:19.743720Z"
    }
   },
   "id": "61d6fee7291464a5"
  },
  {
   "cell_type": "code",
   "execution_count": 157,
   "outputs": [
    {
     "data": {
      "text/plain": "    Время     Служба поддержки       Английский язык            Биология  \\\n0   12:00   Базарбаева  Алина        Махажан Бекнұр       Исманова Алина   \n1  Резерв                               Омар Аружан    Гетце  Екатерина    \n2   14:00          Ораз Аружан          Омар Аружан   Лобазова Валентина   \n3  Резерв    Боровикова Ксения       Махажан Бекнұр       Исманова Алина   \n4   16:00                               Омар Аружан   Лобазова Валентина   \n5  Резерв   Базарбаева  Алина                             Исманова Алина   \n6   18:00    Боровикова Ксения       Махажан Бекнұр       Исманова Алина   \n7  Резерв   Базарбаева  Алина   Дуйсенбеккызы Жадыра   Гетце  Екатерина    \n8   20:00  Байжигитова  Салия   Дуйсенбеккызы Жадыра      Исманова Алина   \n9  Резерв          Ораз Аружан       Махажан Бекнұр    Гетце  Екатерина    \n\n                Химия          Информатика История Казахстана  \\\n0        Рысқұл  Азат         Бекбер Адияр       Смайлов Юсуф   \n1  Калашникова  Ирина  Есполова  Жаркынай                       \n2        Рысқұл  Азат         Бекбер Адияр       Смайлов Юсуф   \n3                      Есполова  Жаркынай                       \n4        Рысқұл  Азат         Бекбер Адияр                      \n5                      Есполова  Жаркынай                       \n6        Рысқұл  Азат         Бекбер Адияр       Смайлов Юсуф   \n7                      Есполова  Жаркынай                       \n8        Рысқұл  Азат       Усентаева Алия       Смайлов Юсуф   \n9                      Есполова  Жаркынай                       \n\n              Математика                Физика             География  \\\n0       Аманшаев Бекасыл  Сагимгелдиев  Бекзат    Амангельдина Амина   \n1        Аманай  Айжамал            Цай Даниил         Улугова Лаура   \n2       Аманшаев Бекасыл     Амандыкова Маншук         Улугова Лаура   \n3  Қуанышбекқызы Әсемгүл                           Төлегенова Айдана   \n4        Ковалёва  Дарья     Амандыкова Маншук     Төлегенова Айдана   \n5        Аманай  Айжамал                                               \n6        Ковалёва  Дарья            Цай Даниил  Васильева  Виктория    \n7        Аманай  Айжамал     Амандыкова Маншук    Амангельдина Амина   \n8      Ибрагимова Сабина            Цай Даниил  Васильева  Виктория    \n9  Қуанышбекқызы Әсемгүл  Сагимгелдиев  Бекзат    Турыскалиева Асель   \n\n   Всемирная история  \n0  Сагадатова  Алина  \n1   Литвиненко София  \n2  Сагадатова  Алина  \n3   Литвиненко София  \n4  Сагадатова  Алина  \n5   Литвиненко София  \n6  Сагадатова  Алина  \n7   Литвиненко София  \n8    Сабыржан Наргиз  \n9  Сагадатова  Алина  ",
      "text/html": "<div>\n<style scoped>\n    .dataframe tbody tr th:only-of-type {\n        vertical-align: middle;\n    }\n\n    .dataframe tbody tr th {\n        vertical-align: top;\n    }\n\n    .dataframe thead th {\n        text-align: right;\n    }\n</style>\n<table border=\"1\" class=\"dataframe\">\n  <thead>\n    <tr style=\"text-align: right;\">\n      <th></th>\n      <th>Время</th>\n      <th>Служба поддержки</th>\n      <th>Английский язык</th>\n      <th>Биология</th>\n      <th>Химия</th>\n      <th>Информатика</th>\n      <th>История Казахстана</th>\n      <th>Математика</th>\n      <th>Физика</th>\n      <th>География</th>\n      <th>Всемирная история</th>\n    </tr>\n  </thead>\n  <tbody>\n    <tr>\n      <th>0</th>\n      <td>12:00</td>\n      <td>Базарбаева  Алина</td>\n      <td>Махажан Бекнұр</td>\n      <td>Исманова Алина</td>\n      <td>Рысқұл  Азат</td>\n      <td>Бекбер Адияр</td>\n      <td>Смайлов Юсуф</td>\n      <td>Аманшаев Бекасыл</td>\n      <td>Сагимгелдиев  Бекзат</td>\n      <td>Амангельдина Амина</td>\n      <td>Сагадатова  Алина</td>\n    </tr>\n    <tr>\n      <th>1</th>\n      <td>Резерв</td>\n      <td></td>\n      <td>Омар Аружан</td>\n      <td>Гетце  Екатерина</td>\n      <td>Калашникова  Ирина</td>\n      <td>Есполова  Жаркынай</td>\n      <td></td>\n      <td>Аманай  Айжамал</td>\n      <td>Цай Даниил</td>\n      <td>Улугова Лаура</td>\n      <td>Литвиненко София</td>\n    </tr>\n    <tr>\n      <th>2</th>\n      <td>14:00</td>\n      <td>Ораз Аружан</td>\n      <td>Омар Аружан</td>\n      <td>Лобазова Валентина</td>\n      <td>Рысқұл  Азат</td>\n      <td>Бекбер Адияр</td>\n      <td>Смайлов Юсуф</td>\n      <td>Аманшаев Бекасыл</td>\n      <td>Амандыкова Маншук</td>\n      <td>Улугова Лаура</td>\n      <td>Сагадатова  Алина</td>\n    </tr>\n    <tr>\n      <th>3</th>\n      <td>Резерв</td>\n      <td>Боровикова Ксения</td>\n      <td>Махажан Бекнұр</td>\n      <td>Исманова Алина</td>\n      <td></td>\n      <td>Есполова  Жаркынай</td>\n      <td></td>\n      <td>Қуанышбекқызы Әсемгүл</td>\n      <td></td>\n      <td>Төлегенова Айдана</td>\n      <td>Литвиненко София</td>\n    </tr>\n    <tr>\n      <th>4</th>\n      <td>16:00</td>\n      <td></td>\n      <td>Омар Аружан</td>\n      <td>Лобазова Валентина</td>\n      <td>Рысқұл  Азат</td>\n      <td>Бекбер Адияр</td>\n      <td></td>\n      <td>Ковалёва  Дарья</td>\n      <td>Амандыкова Маншук</td>\n      <td>Төлегенова Айдана</td>\n      <td>Сагадатова  Алина</td>\n    </tr>\n    <tr>\n      <th>5</th>\n      <td>Резерв</td>\n      <td>Базарбаева  Алина</td>\n      <td></td>\n      <td>Исманова Алина</td>\n      <td></td>\n      <td>Есполова  Жаркынай</td>\n      <td></td>\n      <td>Аманай  Айжамал</td>\n      <td></td>\n      <td></td>\n      <td>Литвиненко София</td>\n    </tr>\n    <tr>\n      <th>6</th>\n      <td>18:00</td>\n      <td>Боровикова Ксения</td>\n      <td>Махажан Бекнұр</td>\n      <td>Исманова Алина</td>\n      <td>Рысқұл  Азат</td>\n      <td>Бекбер Адияр</td>\n      <td>Смайлов Юсуф</td>\n      <td>Ковалёва  Дарья</td>\n      <td>Цай Даниил</td>\n      <td>Васильева  Виктория</td>\n      <td>Сагадатова  Алина</td>\n    </tr>\n    <tr>\n      <th>7</th>\n      <td>Резерв</td>\n      <td>Базарбаева  Алина</td>\n      <td>Дуйсенбеккызы Жадыра</td>\n      <td>Гетце  Екатерина</td>\n      <td></td>\n      <td>Есполова  Жаркынай</td>\n      <td></td>\n      <td>Аманай  Айжамал</td>\n      <td>Амандыкова Маншук</td>\n      <td>Амангельдина Амина</td>\n      <td>Литвиненко София</td>\n    </tr>\n    <tr>\n      <th>8</th>\n      <td>20:00</td>\n      <td>Байжигитова  Салия</td>\n      <td>Дуйсенбеккызы Жадыра</td>\n      <td>Исманова Алина</td>\n      <td>Рысқұл  Азат</td>\n      <td>Усентаева Алия</td>\n      <td>Смайлов Юсуф</td>\n      <td>Ибрагимова Сабина</td>\n      <td>Цай Даниил</td>\n      <td>Васильева  Виктория</td>\n      <td>Сабыржан Наргиз</td>\n    </tr>\n    <tr>\n      <th>9</th>\n      <td>Резерв</td>\n      <td>Ораз Аружан</td>\n      <td>Махажан Бекнұр</td>\n      <td>Гетце  Екатерина</td>\n      <td></td>\n      <td>Есполова  Жаркынай</td>\n      <td></td>\n      <td>Қуанышбекқызы Әсемгүл</td>\n      <td>Сагимгелдиев  Бекзат</td>\n      <td>Турыскалиева Асель</td>\n      <td>Сагадатова  Алина</td>\n    </tr>\n  </tbody>\n</table>\n</div>"
     },
     "execution_count": 157,
     "metadata": {},
     "output_type": "execute_result"
    }
   ],
   "source": [
    "# Delete rows with НЕ занимать && delete row with days of the week\n",
    "df_cleaned = df[df[\"Служба поддержки\"] != \"НЕ занимать\"].drop(1, axis=0) \n",
    "df_cleaned = df_cleaned.drop(0, axis=0) \n",
    "# rename first column normally\n",
    "df_cleaned.rename(columns={\"Unnamed: 0\": \"Время\"}, inplace=True)\n",
    "# stay only the time of the start\n",
    "df_cleaned[\"Время\"] = df_cleaned[\"Время\"].map(lambda x: x[5:-8] if \"Чаты\" in x else x)\n",
    "# reset index after deletion of some rows\n",
    "df_cleaned.reset_index(drop=True, inplace=True)\n",
    "df_cleaned"
   ],
   "metadata": {
    "collapsed": false,
    "ExecuteTime": {
     "end_time": "2024-08-15T11:35:20.527221Z",
     "start_time": "2024-08-15T11:35:20.512080Z"
    }
   },
   "id": "59738fcb35451853"
  },
  {
   "cell_type": "code",
   "execution_count": 158,
   "outputs": [],
   "source": [
    "output_dict = {}\n",
    "for i in range(0, 10, 2):\n",
    "    row = df_cleaned.iloc[i]\n",
    "    output_dict[row[\"Время\"]] = [row[1: ], df_cleaned.iloc[i + 1][1:]] "
   ],
   "metadata": {
    "collapsed": false,
    "ExecuteTime": {
     "end_time": "2024-08-15T11:35:22.464469Z",
     "start_time": "2024-08-15T11:35:22.459166Z"
    }
   },
   "id": "b4b9a1cc7cb1af59"
  },
  {
   "cell_type": "code",
   "execution_count": 159,
   "outputs": [],
   "source": [
    "\n",
    "        "
   ],
   "metadata": {
    "collapsed": false,
    "ExecuteTime": {
     "end_time": "2024-08-15T11:35:23.394642Z",
     "start_time": "2024-08-15T11:35:23.391877Z"
    }
   },
   "id": "2e7aacb26f574fea"
  },
  {
   "cell_type": "code",
   "execution_count": null,
   "outputs": [],
   "source": [],
   "metadata": {
    "collapsed": false
   },
   "id": "8f1da14010ec0fed"
  }
 ],
 "metadata": {
  "kernelspec": {
   "display_name": "Python 3",
   "language": "python",
   "name": "python3"
  },
  "language_info": {
   "codemirror_mode": {
    "name": "ipython",
    "version": 2
   },
   "file_extension": ".py",
   "mimetype": "text/x-python",
   "name": "python",
   "nbconvert_exporter": "python",
   "pygments_lexer": "ipython2",
   "version": "2.7.6"
  }
 },
 "nbformat": 4,
 "nbformat_minor": 5
}
